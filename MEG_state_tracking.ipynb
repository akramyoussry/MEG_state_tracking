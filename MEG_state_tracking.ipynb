{
 "cells": [
  {
   "cell_type": "markdown",
   "id": "08191b3b",
   "metadata": {},
   "source": [
    "# Example on how to use MEG for a qutrit state tracking"
   ]
  },
  {
   "cell_type": "code",
   "execution_count": 1,
   "id": "36e2bec8",
   "metadata": {},
   "outputs": [],
   "source": [
    "# preample \n",
    "import numpy as np\n",
    "import matplotlib.pyplot as plt\n",
    "from scipy.linalg import expm,sqrtm,logm,eig"
   ]
  },
  {
   "cell_type": "code",
   "execution_count": 2,
   "id": "03daa3ec",
   "metadata": {},
   "outputs": [],
   "source": [
    "def generate_random_state(dim):\n",
    "    \"\"\"\n",
    "    a function to generate a random state using the Haar measure, returns the density matrix\n",
    "    \n",
    "    dim: dimension of the state\n",
    "    \"\"\"\n",
    "    # generate a random complex matrix of dimension dim-by-dim\n",
    "    A = np.random.rand(dim,dim) + 1j* np.random.rand(dim,dim)\n",
    "    \n",
    "    # multiply be hermitian conjugate\n",
    "    rho = A@A.conj().T\n",
    "    \n",
    "    # normalize\n",
    "    rho = rho/np.trace(rho)\n",
    "    \n",
    "    # done!\n",
    "    return rho  "
   ]
  },
  {
   "cell_type": "code",
   "execution_count": 3,
   "id": "08370004",
   "metadata": {},
   "outputs": [],
   "source": [
    "def generate_MUB_3():\n",
    "    \"\"\"\n",
    "    a function to generate all the MUB's for d=3\n",
    "    \"\"\"\n",
    "    \n",
    "    # define the coefficients matrix [replace with correct coefficients for other dimensions if MUB exists]\n",
    "    M = [ \n",
    "        [np.array([[1,0,0]]).T,  np.array([[0,1,0]]).T, np.array([[0,0,1]]).T],\n",
    "        [np.array([[1,1,1]]).T/np.sqrt(3), np.array([[1,np.exp(2*np.pi*1j/3),np.exp(-2*np.pi*1j/3)]]).T/np.sqrt(3), np.array([[1,np.exp(-2*np.pi*1j/3),np.exp(2*np.pi*1j/3)]]).T/np.sqrt(3)],\n",
    "        [np.array([[1,np.exp(2*np.pi*1j/3),np.exp(2*np.pi*1j/3)]]).T/np.sqrt(3),   np.array([[1,np.exp(-2*np.pi*1j/3),1]]).T/np.sqrt(3), np.array([[1,1,np.exp(-2*np.pi*1j/3)]]).T/np.sqrt(3)],\n",
    "        [np.array([[1,np.exp(-2*np.pi*1j/3),np.exp(-2*np.pi*1j/3)]]).T/np.sqrt(3), np.array([[1,1,np.exp(2*np.pi*1j/3)]]).T/np.sqrt(3),  np.array([[1,np.exp(2*np.pi*1j/3),1]]).T/np.sqrt(3)]\n",
    "        ]\n",
    "\n",
    "    return [[x@x.conj().T for x in m] for m in M]"
   ]
  },
  {
   "cell_type": "code",
   "execution_count": 4,
   "id": "3c36320c",
   "metadata": {},
   "outputs": [],
   "source": [
    "def generate_Generalized_Pauli(dim):\n",
    "    \"\"\"\n",
    "    a function to calculate a list of all generalized Pauli's according to https://arxiv.org/abs/quant-ph/0301152 [has typo in definition of w] and https://journals.aps.org/prl/pdf/10.1103/PhysRevLett.47.838\n",
    "    \n",
    "    dim: dimension of the state\n",
    "    \"\"\"\n",
    "    I   = np.eye(dim) \n",
    "    ket = lambda i: I[:,i:i+1]\n",
    "    bra = lambda i: I[i:i+1, :]\n",
    "    \n",
    "    # there are 3 types of operators, u_jk, v_jk, and w_l, for 0<j<k<d, 0<l<d, prepare all of these lists and concatenate them\n",
    "    u = sum( [ [ket(j)@bra(k) + ket(k)@bra(j) for j in range(dim) if j<k] for k in range(dim)], [] )\n",
    "    v = sum( [ [-1j*(ket(j)@bra(k) - ket(k)@bra(j)) for j in range(dim) if j<k] for k in range(dim)], [] )\n",
    "    w = [ (np.sqrt(2)/np.sqrt(l*(l+1))) * (sum( [ket(j-1)@bra(j-1) for j in range(1,l+1)], 0)- l*ket(l)@bra(l)) for l in range(1,dim)]\n",
    "    return u+v+w"
   ]
  },
  {
   "cell_type": "code",
   "execution_count": 5,
   "id": "74148c90",
   "metadata": {},
   "outputs": [],
   "source": [
    "def generate_Generalized_Pauli_Projectors(dim):\n",
    "    \"\"\"\n",
    "    a function to calculate a list of all the projectors of the generalized Pauli's\n",
    "    \n",
    "    dim: dimension of the state\n",
    "    \"\"\"\n",
    "    X = generate_Generalized_Pauli(dim) \n",
    "    projectors = []\n",
    "    # loop over each operators\n",
    "    for x in X:\n",
    "        Q = eig(x)[1] # eigenvector matrix\n",
    "        projectors.append( [Q[:, idx:idx+1]@Q[:, idx:idx+1].conj().T for idx in range(dim)] )\n",
    "    return projectors"
   ]
  },
  {
   "cell_type": "code",
   "execution_count": 6,
   "id": "94158439",
   "metadata": {},
   "outputs": [],
   "source": [
    "def trace_norm(rho):\n",
    "    \"\"\"\n",
    "    a function to calculate the trace norm of a density matrix\n",
    "    \n",
    "    rho: the state we want to calculate its trace norm\n",
    "    \"\"\"\n",
    "    \n",
    "    return np.real(np.trace( sqrtm( rho @ rho.conj().T )))\n",
    "\n",
    "def density_fidelity(rho,sigma):\n",
    "    \"\"\"\n",
    "    a function to calculate the fidelity between two states represented by their density matrix\n",
    "    \n",
    "    rho   : the first state\n",
    "    sigma : the other state\n",
    "    \"\"\"\n",
    "    return trace_norm( sqrtm(rho) @ sqrtm(sigma) )**2;"
   ]
  },
  {
   "cell_type": "code",
   "execution_count": 7,
   "id": "e7aba588",
   "metadata": {},
   "outputs": [],
   "source": [
    "def MEG_update(rho_t, Gt, X_t, y_t, eta_t):\n",
    "    \"\"\"\n",
    "    state estimate update for MEG using multiple measurements per iteration\n",
    "    \n",
    "    rho_t   : the old estimate of the state\n",
    "    G_t     : the old Gt vlaue\n",
    "    X_t     : a list of measurement operators \n",
    "    y_t     : a list of the measurement outcomes\n",
    "    eta_t   : the learning rate \n",
    "    \"\"\"      \n",
    "    # Calculate the gradient of the loss function\n",
    "    grad_loss = sum( [2 * (np.trace(rho_t @ X) - y) * X for (X,y) in zip(X_t, y_t)] )\n",
    "    \n",
    "    # update\n",
    "    G_new = Gt - eta_t*grad_loss    \n",
    "    \n",
    "    # exponentiate\n",
    "    rho_new = expm(G_new)\n",
    "    \n",
    "    # normalize\n",
    "    rho_new = rho_new / np.trace(rho_new)\n",
    "    \n",
    "    # done!\n",
    "    return rho_new, G_new"
   ]
  },
  {
   "cell_type": "code",
   "execution_count": 8,
   "id": "7a33e780",
   "metadata": {},
   "outputs": [],
   "source": [
    "# parameters for the algorithm\n",
    "dim        = 3                                                                     # dimension of the density matrix\n",
    "est_0      = 0.999*np.ones((dim,dim))/dim + 0.001*np.eye(dim)/dim                  # initial estimate\n",
    "\n",
    "nIter      = 1000                                                                  # number of iterations\n",
    "nStates    = 50                                                                    # number of states\n",
    "eta        = 0.5                                                                   # learning rate\n",
    "\n",
    "# parameters for time-evolution\n",
    "axis    = np.random.rand(dim**2-1)                                                 # define a random rotation axis\n",
    "axis    = axis/np.linalg.norm(axis, 2)                                             # normalize the rotation axis\n",
    "SIGMA_r = sum([a*sigma for a, sigma in zip(axis,generate_Generalized_Pauli(dim))]) # define the random Hermitian matrix\n",
    "theta = 2*np.pi                                                                    # maximum rotation angle"
   ]
  },
  {
   "cell_type": "code",
   "execution_count": 9,
   "id": "ee23f92d",
   "metadata": {},
   "outputs": [],
   "source": [
    "X_MUB      = generate_MUB_3()                                                      # generate MUB's\n",
    "X_GP       = generate_Generalized_Pauli_Projectors(dim)                            # generate generalized Pauli's projectors"
   ]
  },
  {
   "cell_type": "code",
   "execution_count": 10,
   "id": "e82d2f43",
   "metadata": {},
   "outputs": [
    {
     "name": "stdout",
     "output_type": "stream",
     "text": [
      "Estimating state 50 of 50\r"
     ]
    }
   ],
   "source": [
    "Infidelity_1   = np.zeros((nStates, nIter))        # array to store the infidelities for the constant learning rate and MUB\n",
    "Infidelity_2   = np.zeros((nStates, nIter))        # array to store the infidelities for the variable learning rate and MUB\n",
    "\n",
    "Infidelity_3   = np.zeros((nStates, nIter))        # array to store the infidelities for the constant learning rate and GP\n",
    "Infidelity_4   = np.zeros((nStates, nIter))        # array to store the infidelities for the variable learning rate and GP\n",
    "\n",
    "\n",
    "for idx_state in range(nStates):\n",
    "    # generate a density matrix\n",
    "    true_state = generate_random_state(dim)\n",
    "  \n",
    "    # add a time-varying rotation\n",
    "    true_state_time = [expm(-1j * 0.5 * theta * SIGMA_r * t/nIter) @ true_state @ expm(-1j * 0.5 * theta * SIGMA_r * t/nIter).conj().T for t in range(nIter)]\n",
    "    \n",
    "    \n",
    "    # Initilaizations for MEG with variable learning rate and MUB\n",
    "    sigma_estimate_1 = est_0                             # initial state estimate \n",
    "    St_1             = logm(sigma_estimate_1)            # initial Gt value (needed for the update rule)\n",
    " \n",
    "    # Initilaizations for MEG with constant learning rate and MUB\n",
    "    sigma_estimate_2 = est_0                             # initial state estimate\n",
    "    St_2             = logm(sigma_estimate_2)            # initial Gt value (needed for the update rule)\n",
    "    \n",
    "    #  Initilaizations for MEG with variable learning rate and GP\n",
    "    sigma_estimate_3 = est_0                             # initial state estimate \n",
    "    St_3             = logm(sigma_estimate_3)            # initial Gt value (needed for the update rule)\n",
    " \n",
    "    #  Initilaizations for MEG with constant learning rate and GP\n",
    "    sigma_estimate_4 = est_0                             # initial state estimate\n",
    "    St_4             = logm(sigma_estimate_4)            # initial Gt value (needed for the update rule)\n",
    "    \n",
    "    # do the estimation iterations using MUB measurements\n",
    "    for idx_iter in range(nIter):\n",
    "\n",
    "        # 1) randomly pick a measurement basis\n",
    "        idx_basis = np.random.randint(0, len(X_MUB)) \n",
    "        \n",
    "        # 2) do the measurement [simulate as a multinmoial random variable] \n",
    "        nShots = 10**3\n",
    "        prob   = [np.real( np.trace(x @ true_state_time[idx_iter]) ) for x in X_MUB[idx_basis]]\n",
    "        y_t    = np.random.multinomial(nShots, prob)/nShots # probability   \n",
    "\n",
    "        # 3) update the estimate using MEG with variable learning rate\n",
    "        sigma_estimate_1, St_1 = MEG_update(sigma_estimate_1, St_1, X_MUB[idx_basis], y_t, eta/np.sqrt(idx_iter+1) )\n",
    "        \n",
    "        # 4) update the estimate using MEG with constant learning rate\n",
    "        sigma_estimate_2, St_2 = MEG_update(sigma_estimate_2, St_2, X_MUB[idx_basis], y_t, eta )\n",
    "\n",
    "        # 5) calculate the fidelity with the true state for performance comparison [for simulations if we know true state]\n",
    "        Infidelity_1[idx_state, idx_iter] =  1 - density_fidelity(sigma_estimate_1, true_state_time[idx_iter])   \n",
    "        Infidelity_2[idx_state, idx_iter] =  1 - density_fidelity(sigma_estimate_2, true_state_time[idx_iter])  \n",
    "        \n",
    "        \n",
    "    # do the estimation iterations using generalized Pauli measurements\n",
    "    for idx_iter in range(nIter):\n",
    "\n",
    "        # 1) randomly pick a measurement basis\n",
    "        idx_basis = np.random.randint(0, len(X_GP)) \n",
    "        \n",
    "        # 2) do the measurement [simulate as a multinmoial random variable] \n",
    "        nShots = 10**3\n",
    "        prob   = [np.real( np.trace(x @ true_state_time[idx_iter]) ) for x in X_GP[idx_basis]]\n",
    "        y_t    = np.random.multinomial(nShots, prob)/nShots # probability   \n",
    "\n",
    "        # 3) update the estimate using MEG with variable learning rate\n",
    "        sigma_estimate_3, St_3 = MEG_update(sigma_estimate_3, St_3, X_GP[idx_basis], y_t, eta/np.sqrt(idx_iter+1) )\n",
    "        \n",
    "        # 4) update the estimate using MEG with constant learning rate\n",
    "        sigma_estimate_4, St_4 = MEG_update(sigma_estimate_4, St_4, X_GP[idx_basis], y_t, eta )\n",
    "\n",
    "        # 5) calculate the fidelity with the true state for performance comparison [for simulations if we know true state]\n",
    "        Infidelity_3[idx_state, idx_iter] =  1 - density_fidelity(sigma_estimate_3, true_state_time[idx_iter])   \n",
    "        Infidelity_4[idx_state, idx_iter] =  1 - density_fidelity(sigma_estimate_4, true_state_time[idx_iter])  \n",
    "    print(\"Estimating state %d of %d\"%(idx_state+1,nStates), end='\\r')"
   ]
  },
  {
   "cell_type": "code",
   "execution_count": 11,
   "id": "7338c9c4",
   "metadata": {},
   "outputs": [
    {
     "data": {
      "image/png": "[encoded data removed]",
      "text/plain": [
       "<Figure size 720x360 with 1 Axes>"
      ]
     },
     "metadata": {
      "needs_background": "light"
     },
     "output_type": "display_data"
    }
   ],
   "source": [
    "plt.figure(figsize = [10,5])\n",
    "plt.title(\"MUB measurements\")\n",
    "plt.loglog(np.mean(Infidelity_1, 0),     label='$\\eta_t=0.5/\\sqrt{t}$')\n",
    "plt.loglog(np.mean(Infidelity_2, 0),     label='$\\eta_t=0.5$')\n",
    "plt.xlabel('Iteration')\n",
    "plt.ylabel('Infidelity (1-F)')\n",
    "plt.grid()\n",
    "plt.legend()\n",
    "plt.tight_layout()"
   ]
  },
  {
   "cell_type": "code",
   "execution_count": 12,
   "id": "a425e5fc",
   "metadata": {},
   "outputs": [
    {
     "data": {
      "image/png": "[encoded data removed]",
      "text/plain": [
       "<Figure size 720x360 with 1 Axes>"
      ]
     },
     "metadata": {
      "needs_background": "light"
     },
     "output_type": "display_data"
    }
   ],
   "source": [
    "plt.figure(figsize = [10,5])\n",
    "plt.title(\"Generalized Pauli measurements\")\n",
    "plt.loglog(np.mean(Infidelity_3, 0),     label='$\\eta_t=0.5/\\sqrt{t}$')\n",
    "plt.loglog(np.mean(Infidelity_4, 0),     label='$\\eta_t=0.5$')\n",
    "plt.xlabel('Iteration')\n",
    "plt.ylabel('Infidelity (1-F)')\n",
    "plt.grid()\n",
    "plt.legend()\n",
    "plt.tight_layout()"
   ]
  }
 ],
 "metadata": {
  "kernelspec": {
   "display_name": "Python 3",
   "language": "python",
   "name": "python3"
  },
  "language_info": {
   "codemirror_mode": {
    "name": "ipython",
    "version": 3
   },
   "file_extension": ".py",
   "mimetype": "text/x-python",
   "name": "python",
   "nbconvert_exporter": "python",
   "pygments_lexer": "ipython3",
   "version": "3.8.10"
  }
 },
 "nbformat": 4,
 "nbformat_minor": 5
}
